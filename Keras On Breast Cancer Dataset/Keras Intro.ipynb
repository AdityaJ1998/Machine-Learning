{
 "cells": [
  {
   "cell_type": "code",
   "execution_count": 5,
   "metadata": {},
   "outputs": [],
   "source": [
    "from keras.models import Sequential\n",
    "from keras.layers import Dense"
   ]
  },
  {
   "cell_type": "code",
   "execution_count": 4,
   "metadata": {},
   "outputs": [],
   "source": [
    "model = Sequential()"
   ]
  },
  {
   "cell_type": "code",
   "execution_count": 13,
   "metadata": {},
   "outputs": [],
   "source": [
    "layer1 = Dense(units = 32,activation = 'relu',input_dim = 30)\n",
    "model.add(layer1)\n",
    "model.add(Dense(units = 16,activation = 'relu'))\n",
    "model.add(Dense(units = 1,activation = 'sigmoid'))"
   ]
  },
  {
   "cell_type": "code",
   "execution_count": 14,
   "metadata": {},
   "outputs": [],
   "source": [
    "model.compile(optimizer = 'adam',loss = 'binary_crossentropy',metrics = ['accuracy'])"
   ]
  },
  {
   "cell_type": "code",
   "execution_count": 15,
   "metadata": {},
   "outputs": [],
   "source": [
    "from sklearn import datasets\n",
    "cancer = datasets.load_breast_cancer()\n",
    "from sklearn.model_selection import train_test_split\n",
    "\n",
    "x_train,x_test,y_train,y_test = train_test_split(cancer.data,cancer.target,test_size = 0.2)\n",
    "\n",
    "from sklearn.preprocessing import StandardScaler\n",
    "\n",
    "sc = StandardScaler()\n",
    "x_train = sc.fit_transform(x_train)\n",
    "x_test = sc.transform(x_test)"
   ]
  },
  {
   "cell_type": "code",
   "execution_count": 17,
   "metadata": {},
   "outputs": [
    {
     "name": "stdout",
     "output_type": "stream",
     "text": [
      "Train on 455 samples, validate on 114 samples\n",
      "Epoch 1/20\n",
      "455/455 [==============================] - 0s 776us/step - loss: 0.2885 - acc: 0.9912 - val_loss: 0.2835 - val_acc: 0.9912\n",
      "Epoch 2/20\n",
      "455/455 [==============================] - 0s 74us/step - loss: 0.2706 - acc: 0.9912 - val_loss: 0.2671 - val_acc: 0.9825\n",
      "Epoch 3/20\n",
      "455/455 [==============================] - 0s 81us/step - loss: 0.2520 - acc: 0.9912 - val_loss: 0.2508 - val_acc: 0.9825\n",
      "Epoch 4/20\n",
      "455/455 [==============================] - 0s 60us/step - loss: 0.2353 - acc: 0.9912 - val_loss: 0.2354 - val_acc: 0.9825\n",
      "Epoch 5/20\n",
      "455/455 [==============================] - 0s 131us/step - loss: 0.2188 - acc: 0.9934 - val_loss: 0.2203 - val_acc: 0.9825\n",
      "Epoch 6/20\n",
      "455/455 [==============================] - 0s 125us/step - loss: 0.2028 - acc: 0.9934 - val_loss: 0.2060 - val_acc: 0.9737\n",
      "Epoch 7/20\n",
      "455/455 [==============================] - 0s 147us/step - loss: 0.1881 - acc: 0.9934 - val_loss: 0.1919 - val_acc: 0.9825\n",
      "Epoch 8/20\n",
      "455/455 [==============================] - ETA: 0s - loss: 0.1689 - acc: 1.000 - 0s 101us/step - loss: 0.1739 - acc: 0.9934 - val_loss: 0.1786 - val_acc: 0.9825\n",
      "Epoch 9/20\n",
      "455/455 [==============================] - 0s 58us/step - loss: 0.1605 - acc: 0.9956 - val_loss: 0.1673 - val_acc: 0.9825\n",
      "Epoch 10/20\n",
      "455/455 [==============================] - 0s 101us/step - loss: 0.1478 - acc: 0.9934 - val_loss: 0.1532 - val_acc: 0.9825\n",
      "Epoch 11/20\n",
      "455/455 [==============================] - 0s 128us/step - loss: 0.1351 - acc: 0.9934 - val_loss: 0.1429 - val_acc: 0.9825\n",
      "Epoch 12/20\n",
      "455/455 [==============================] - 0s 49us/step - loss: 0.1241 - acc: 0.9956 - val_loss: 0.1327 - val_acc: 0.9825\n",
      "Epoch 13/20\n",
      "455/455 [==============================] - 0s 168us/step - loss: 0.1137 - acc: 0.9956 - val_loss: 0.1231 - val_acc: 0.9825\n",
      "Epoch 14/20\n",
      "455/455 [==============================] - 0s 62us/step - loss: 0.1047 - acc: 0.9956 - val_loss: 0.1147 - val_acc: 0.9825\n",
      "Epoch 15/20\n",
      "455/455 [==============================] - 0s 214us/step - loss: 0.0968 - acc: 0.9956 - val_loss: 0.1075 - val_acc: 0.9825\n",
      "Epoch 16/20\n",
      "455/455 [==============================] - 0s 58us/step - loss: 0.0896 - acc: 0.9956 - val_loss: 0.1012 - val_acc: 0.9825\n",
      "Epoch 17/20\n",
      "455/455 [==============================] - 0s 105us/step - loss: 0.0832 - acc: 0.9956 - val_loss: 0.0955 - val_acc: 0.9825\n",
      "Epoch 18/20\n",
      "455/455 [==============================] - 0s 160us/step - loss: 0.0773 - acc: 0.9956 - val_loss: 0.0888 - val_acc: 0.9825\n",
      "Epoch 19/20\n",
      "455/455 [==============================] - 0s 63us/step - loss: 0.0727 - acc: 0.9956 - val_loss: 0.0843 - val_acc: 0.9825\n",
      "Epoch 20/20\n",
      "455/455 [==============================] - 0s 159us/step - loss: 0.0679 - acc: 0.9956 - val_loss: 0.0805 - val_acc: 0.9825\n"
     ]
    },
    {
     "data": {
      "text/plain": [
       "<keras.callbacks.History at 0x22131a3ec18>"
      ]
     },
     "execution_count": 17,
     "metadata": {},
     "output_type": "execute_result"
    }
   ],
   "source": [
    "model.fit(x_train,y_train,epochs = 20,batch_size = 50,validation_data = (x_test,y_test))"
   ]
  },
  {
   "cell_type": "code",
   "execution_count": 21,
   "metadata": {},
   "outputs": [
    {
     "name": "stdout",
     "output_type": "stream",
     "text": [
      "114/114 [==============================] - 0s 66us/step\n"
     ]
    },
    {
     "data": {
      "text/plain": [
       "[0.08047658257317125, 0.9824561403508771]"
      ]
     },
     "execution_count": 21,
     "metadata": {},
     "output_type": "execute_result"
    }
   ],
   "source": [
    "predictions = model.predict(x_test)\n",
    "score = model.evaluate(x_test,y_test)\n",
    "score"
   ]
  }
 ],
 "metadata": {
  "kernelspec": {
   "display_name": "Python 3",
   "language": "python",
   "name": "python3"
  },
  "language_info": {
   "codemirror_mode": {
    "name": "ipython",
    "version": 3
   },
   "file_extension": ".py",
   "mimetype": "text/x-python",
   "name": "python",
   "nbconvert_exporter": "python",
   "pygments_lexer": "ipython3",
   "version": "3.6.5"
  }
 },
 "nbformat": 4,
 "nbformat_minor": 2
}
