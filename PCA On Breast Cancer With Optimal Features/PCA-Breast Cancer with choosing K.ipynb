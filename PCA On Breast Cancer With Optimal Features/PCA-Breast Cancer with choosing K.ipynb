{
 "cells": [
  {
   "cell_type": "code",
   "execution_count": 13,
   "metadata": {},
   "outputs": [],
   "source": [
    "from sklearn import datasets,decomposition,linear_model\n",
    "import numpy as np\n",
    "import time\n",
    "from sklearn.preprocessing import StandardScaler\n",
    "from sklearn.model_selection import train_test_split\n",
    "import matplotlib.pyplot as plt"
   ]
  },
  {
   "cell_type": "code",
   "execution_count": 2,
   "metadata": {},
   "outputs": [],
   "source": [
    "dataset = datasets.load_breast_cancer()"
   ]
  },
  {
   "cell_type": "code",
   "execution_count": 5,
   "metadata": {},
   "outputs": [
    {
     "data": {
      "text/plain": [
       "(569, 30)"
      ]
     },
     "execution_count": 5,
     "metadata": {},
     "output_type": "execute_result"
    }
   ],
   "source": [
    "X = dataset.data\n",
    "X.shape"
   ]
  },
  {
   "cell_type": "code",
   "execution_count": 7,
   "metadata": {},
   "outputs": [],
   "source": [
    "sc = StandardScaler()\n",
    "X_std = sc.fit_transform(X)"
   ]
  },
  {
   "cell_type": "code",
   "execution_count": 8,
   "metadata": {},
   "outputs": [],
   "source": [
    "X_train,X_test,Y_train,Y_test = train_test_split(X_std,dataset.target,random_state = 0)"
   ]
  },
  {
   "cell_type": "code",
   "execution_count": 20,
   "metadata": {},
   "outputs": [
    {
     "data": {
      "text/plain": [
       "array([[-2.83807710e+00, -3.19380204e-01, -5.09786956e-01, ...,\n",
       "         2.21524204e-03,  1.76560105e-02,  2.17290491e-03],\n",
       "       [-3.23881077e+00,  9.46695152e-01,  1.46301470e+00, ...,\n",
       "        -3.50930341e-03,  1.56914143e-02,  1.44518116e-02],\n",
       "       [ 3.92831902e+00, -3.30091570e+00,  1.84183164e+00, ...,\n",
       "         2.00501871e-02, -3.44990391e-02, -1.16657352e-02],\n",
       "       ...,\n",
       "       [-3.17962251e+00,  4.33267733e-01,  5.77005027e-01, ...,\n",
       "         3.85704447e-02, -4.18716728e-02,  1.59435183e-02],\n",
       "       [-5.59141525e+00, -7.52889177e-01,  4.06478207e+00, ...,\n",
       "         1.97618354e-02, -1.70355933e-02,  4.38111630e-03],\n",
       "       [-1.20802261e+00,  1.32965049e+00,  1.26115052e+00, ...,\n",
       "        -1.32544095e-02, -1.58653526e-03, -1.14601436e-02]])"
      ]
     },
     "execution_count": 20,
     "metadata": {},
     "output_type": "execute_result"
    }
   ],
   "source": [
    "pca2 = decomposition.PCA()\n",
    "pca2.fit_transform(X_train)"
   ]
  },
  {
   "cell_type": "code",
   "execution_count": 25,
   "metadata": {},
   "outputs": [
    {
     "data": {
      "text/plain": [
       "10"
      ]
     },
     "execution_count": 25,
     "metadata": {},
     "output_type": "execute_result"
    }
   ],
   "source": [
    "#Deciding optimal number of features\n",
    "total = (pca2.explained_variance_).sum()\n",
    "k = 0\n",
    "current_variance = 0\n",
    "while current_variance / total < 0.95:\n",
    "    current_variance += pca2.explained_variance_[k]\n",
    "    k = k + 1\n",
    "k"
   ]
  },
  {
   "cell_type": "code",
   "execution_count": 9,
   "metadata": {},
   "outputs": [],
   "source": [
    "pca = decomposition.PCA(n_components = 15)\n",
    "X_train_pca = pca.fit_transform(X_train)\n",
    "X_test_pca = pca.transform(X_test)"
   ]
  },
  {
   "cell_type": "code",
   "execution_count": 14,
   "metadata": {},
   "outputs": [
    {
     "name": "stdout",
     "output_type": "stream",
     "text": [
      "0.23537349700927734\n"
     ]
    },
    {
     "data": {
      "text/plain": [
       "0.965034965034965"
      ]
     },
     "execution_count": 14,
     "metadata": {},
     "output_type": "execute_result"
    }
   ],
   "source": [
    "classifier = linear_model.LogisticRegression()\n",
    "start = time.time()\n",
    "classifier.fit(X_train,Y_train)\n",
    "ending = time.time()\n",
    "print(ending - start)\n",
    "classifier.score(X_test,Y_test)"
   ]
  },
  {
   "cell_type": "code",
   "execution_count": 16,
   "metadata": {},
   "outputs": [
    {
     "name": "stdout",
     "output_type": "stream",
     "text": [
      "0.002994537353515625\n"
     ]
    },
    {
     "data": {
      "text/plain": [
       "0.958041958041958"
      ]
     },
     "execution_count": 16,
     "metadata": {},
     "output_type": "execute_result"
    }
   ],
   "source": [
    "classifier = linear_model.LogisticRegression()\n",
    "start = time.time()\n",
    "classifier.fit(X_train_pca,Y_train)\n",
    "ending = time.time()\n",
    "print(ending - start)\n",
    "classifier.score(X_test_pca,Y_test)"
   ]
  },
  {
   "cell_type": "code",
   "execution_count": null,
   "metadata": {},
   "outputs": [],
   "source": [
    "#Accuracy decreases a little but notice how much less time is required.\n",
    "#Imagine consequences in website results ^-^."
   ]
  },
  {
   "cell_type": "code",
   "execution_count": 17,
   "metadata": {},
   "outputs": [
    {
     "data": {
      "text/plain": [
       "array([13.02746837,  5.81556555,  2.85848795,  1.91901713,  1.70021491,\n",
       "        1.20663908,  0.65333715,  0.42673847,  0.42645054,  0.34558986,\n",
       "        0.30805491,  0.25605447,  0.228152  ,  0.14326274,  0.0926283 ])"
      ]
     },
     "execution_count": 17,
     "metadata": {},
     "output_type": "execute_result"
    }
   ],
   "source": [
    "pca.explained_variance_"
   ]
  }
 ],
 "metadata": {
  "kernelspec": {
   "display_name": "Python 3",
   "language": "python",
   "name": "python3"
  },
  "language_info": {
   "codemirror_mode": {
    "name": "ipython",
    "version": 3
   },
   "file_extension": ".py",
   "mimetype": "text/x-python",
   "name": "python",
   "nbconvert_exporter": "python",
   "pygments_lexer": "ipython3",
   "version": "3.6.5"
  }
 },
 "nbformat": 4,
 "nbformat_minor": 2
}
