{
 "cells": [
  {
   "cell_type": "code",
   "execution_count": 1,
   "metadata": {},
   "outputs": [],
   "source": [
    "from sklearn import datasets\n",
    "from sklearn.model_selection import train_test_split"
   ]
  },
  {
   "cell_type": "code",
   "execution_count": 2,
   "metadata": {},
   "outputs": [],
   "source": [
    "iris = datasets.load_iris()"
   ]
  },
  {
   "cell_type": "code",
   "execution_count": 3,
   "metadata": {},
   "outputs": [],
   "source": [
    "x = iris.data\n",
    "y = iris.target"
   ]
  },
  {
   "cell_type": "code",
   "execution_count": 5,
   "metadata": {},
   "outputs": [],
   "source": [
    "x_train,x_test,y_train,y_test = train_test_split(x,y)"
   ]
  },
  {
   "cell_type": "code",
   "execution_count": 6,
   "metadata": {},
   "outputs": [],
   "source": [
    "from sklearn.neural_network import MLPClassifier"
   ]
  },
  {
   "cell_type": "code",
   "execution_count": 11,
   "metadata": {},
   "outputs": [
    {
     "data": {
      "text/plain": [
       "MLPClassifier(activation='relu', alpha=0.0001, batch_size='auto', beta_1=0.9,\n",
       "       beta_2=0.999, early_stopping=False, epsilon=1e-08,\n",
       "       hidden_layer_sizes=(20,), learning_rate='constant',\n",
       "       learning_rate_init=0.001, max_iter=3000, momentum=0.9,\n",
       "       nesterovs_momentum=True, power_t=0.5, random_state=None,\n",
       "       shuffle=True, solver='adam', tol=0.0001, validation_fraction=0.1,\n",
       "       verbose=False, warm_start=False)"
      ]
     },
     "execution_count": 11,
     "metadata": {},
     "output_type": "execute_result"
    }
   ],
   "source": [
    "classifier = MLPClassifier(hidden_layer_sizes = (20,),max_iter = 3000)\n",
    "classifier.fit(x_train,y_train)"
   ]
  },
  {
   "cell_type": "code",
   "execution_count": 12,
   "metadata": {},
   "outputs": [
    {
     "data": {
      "text/plain": [
       "0.9736842105263158"
      ]
     },
     "execution_count": 12,
     "metadata": {},
     "output_type": "execute_result"
    }
   ],
   "source": [
    "classifier.score(x_test,y_test)"
   ]
  },
  {
   "cell_type": "code",
   "execution_count": 13,
   "metadata": {},
   "outputs": [
    {
     "data": {
      "text/plain": [
       "[array([[ 5.07183465e-01, -6.91701764e-02, -1.69033557e-01,\n",
       "         -2.56102852e-01, -4.80947400e-01,  4.71624518e-12,\n",
       "          2.47114981e-02,  1.15964030e-01,  1.33665167e-01,\n",
       "         -4.83051695e-02,  7.06257293e-01,  2.39410635e-01,\n",
       "         -2.05510147e-02, -2.39963002e-03, -8.50990654e-02,\n",
       "          6.24318220e-01,  7.82283342e-02, -8.68178390e-04,\n",
       "          3.45722260e-01,  7.41218469e-01],\n",
       "        [ 7.08694618e-01, -3.13220760e-01, -2.28235949e-01,\n",
       "         -5.91464441e-02, -4.02134395e-01, -1.26900678e-05,\n",
       "          6.77706632e-01,  5.77533004e-02, -5.70657647e-02,\n",
       "         -2.09262259e-01, -2.66341578e-01,  6.15770643e-01,\n",
       "         -1.56102611e-04, -2.50572160e-02, -1.11492032e-01,\n",
       "          6.68691881e-02,  7.21322759e-01,  4.05506624e-17,\n",
       "         -7.13781880e-01, -7.97278433e-02],\n",
       "        [-3.25391821e-01,  1.83862559e-01,  2.85482276e-01,\n",
       "          3.07169527e-01,  7.15894603e-01,  2.22159632e-18,\n",
       "         -2.77607336e-01,  3.81957293e-01,  2.88887280e-01,\n",
       "         -9.73893746e-02, -4.93587424e-01, -7.02403408e-01,\n",
       "          1.40860798e-03, -3.08663705e-03,  2.65602779e-02,\n",
       "         -7.51093788e-01, -2.97477888e-01,  6.45367922e-10,\n",
       "          7.66545531e-01, -3.92086434e-01],\n",
       "        [-3.64602482e-01,  5.43208203e-01, -1.07080760e-01,\n",
       "          9.28653796e-01,  9.88311532e-01, -3.08041658e-04,\n",
       "         -6.63387640e-01,  7.08741818e-01,  5.34996888e-01,\n",
       "          2.96110118e-01,  1.70091647e-01, -1.13827878e-01,\n",
       "         -3.42681176e-07,  2.63712453e-03, -2.84237037e-03,\n",
       "         -2.77990968e-01, -6.13932782e-01, -5.79529141e-02,\n",
       "          7.42623503e-01, -1.47468032e-01]]),\n",
       " array([[ 5.89381275e-01,  5.41176338e-01, -2.03061018e-01],\n",
       "        [ 3.40297269e-01, -9.39568001e-01, -1.22084569e-01],\n",
       "        [ 1.91181369e-02, -7.80308902e-02, -1.58220430e-01],\n",
       "        [-4.64524111e-01, -8.46946336e-01,  3.95211100e-01],\n",
       "        [ 1.88150348e-01, -3.00220982e-01,  5.60806283e-01],\n",
       "        [-6.95152985e-18,  2.22321438e-02,  6.08167480e-02],\n",
       "        [ 7.62850687e-01, -1.01008652e+00,  2.64125634e-01],\n",
       "        [-5.76181433e-01,  2.15502579e-02,  4.58369321e-01],\n",
       "        [-6.08050375e-01, -4.18618558e-01,  8.02159430e-01],\n",
       "        [-1.32981438e-04,  1.18373622e-01, -9.18914108e-03],\n",
       "        [ 4.53150218e-01,  5.53594412e-01, -5.80486110e-01],\n",
       "        [ 4.32487140e-01, -9.15298877e-01,  3.42894458e-02],\n",
       "        [-3.57237982e-12, -2.28630164e-08,  1.94455277e-02],\n",
       "        [-2.57176069e-02, -2.00249741e-18, -5.77018211e-04],\n",
       "        [ 3.66703967e-02, -2.06294301e-02,  2.10932473e-03],\n",
       "        [ 4.63564337e-01,  3.88076773e-01, -3.47149204e-01],\n",
       "        [ 4.44308034e-01,  4.95058082e-01, -8.33295905e-01],\n",
       "        [ 6.14086952e-02,  2.55851033e-04, -2.32444647e-02],\n",
       "        [-7.38785706e-01,  1.02504253e-01,  9.52120734e-01],\n",
       "        [ 2.86383800e-01,  4.07295577e-01, -8.28530423e-01]])]"
      ]
     },
     "execution_count": 13,
     "metadata": {},
     "output_type": "execute_result"
    }
   ],
   "source": [
    "classifier.coefs_"
   ]
  },
  {
   "cell_type": "code",
   "execution_count": 14,
   "metadata": {},
   "outputs": [
    {
     "data": {
      "text/plain": [
       "[array([ 0.40079958, -0.19776432,  0.0249007 , -0.67840031, -0.26652496,\n",
       "        -0.09610287, -0.07784341, -0.3283938 , -0.7266664 ,  0.47946556,\n",
       "         0.39271352, -0.06392951, -0.23265113, -0.41750169,  0.23786463,\n",
       "         0.89192612,  0.46036265, -0.12309536, -0.48019771,  0.32365608]),\n",
       " array([ 0.55979268,  0.29760747, -0.32700495])]"
      ]
     },
     "execution_count": 14,
     "metadata": {},
     "output_type": "execute_result"
    }
   ],
   "source": [
    "classifier.intercepts_"
   ]
  }
 ],
 "metadata": {
  "kernelspec": {
   "display_name": "Python 3",
   "language": "python",
   "name": "python3"
  },
  "language_info": {
   "codemirror_mode": {
    "name": "ipython",
    "version": 3
   },
   "file_extension": ".py",
   "mimetype": "text/x-python",
   "name": "python",
   "nbconvert_exporter": "python",
   "pygments_lexer": "ipython3",
   "version": "3.6.5"
  }
 },
 "nbformat": 4,
 "nbformat_minor": 2
}
